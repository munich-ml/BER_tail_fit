{
 "cells": [
  {
   "cell_type": "markdown",
   "metadata": {
    "colab_type": "text",
    "id": "view-in-github"
   },
   "source": [
    "<a href=\"https://colab.research.google.com/github/munich-ml/BER_tail_fit/blob/main/Jitter_BER_fit.ipynb\" target=\"_parent\"><img src=\"https://colab.research.google.com/assets/colab-badge.svg\" alt=\"Open In Colab\"/></a>"
   ]
  },
  {
   "cell_type": "markdown",
   "metadata": {
    "id": "1DIessWNXjno"
   },
   "source": [
    "# Jitter and BER \n",
    "*H. Steffens, April 2021*\n",
    "\n",
    "This Notebook contains an introduction into Jitter, its correlation to BER (bit error ratio) and how to measure Jitter, particularly using Xilinx FPGA's with IBERT."
   ]
  },
  {
   "cell_type": "markdown",
   "metadata": {
    "id": "UeDoyjWugpLF"
   },
   "source": [
    "### Jupyter setup\n",
    "Required Python imports and helper functions\n"
   ]
  },
  {
   "cell_type": "code",
   "execution_count": 1,
   "metadata": {
    "id": "Lyynbf8ifPP7"
   },
   "outputs": [],
   "source": [
    "import os, sys\n",
    "import numpy as np\n",
    "import pandas as pd\n",
    "import matplotlib.pyplot as plt\n",
    "import seaborn as sns\n",
    "from scipy import special\n",
    "from scipy.stats import norm"
   ]
  },
  {
   "cell_type": "markdown",
   "metadata": {
    "id": "EMrZ1csi4-zk"
   },
   "source": [
    "`helper_func` import path depends on execution in **Colab** or local **Jupyter**"
   ]
  },
  {
   "cell_type": "code",
   "execution_count": 2,
   "metadata": {
    "id": "fPxGEGlx4-zl",
    "outputId": "ca56cf7e-e81d-4c61-a860-b998892c7a25"
   },
   "outputs": [
    {
     "name": "stdout",
     "output_type": "stream",
     "text": [
      "executing in Jupyter\n"
     ]
    }
   ],
   "source": [
    "if 'google.colab' in sys.modules:\n",
    "    if \"BER_tail_fit\" in os.listdir():\n",
    "        !git -C BER_tail_fit pull\n",
    "    else:\n",
    "        !git clone https://github.com/munich-ml/BER_tail_fit/\n",
    "\n",
    "    from BER_tail_fit.lib.helper_funcs import JitterEstimator, plot_jitter_fit, plot_jitter_overlay\n",
    "    \n",
    "    filesDir = os.path.join(os.getcwd(), \"BER_tail_fit\", \"datasets\")\n",
    "    print(\"executing in Google Colab\")\n",
    "    \n",
    "else:\n",
    "    from lib.helper_funcs import JitterEstimator, plot_jitter_fit, plot_jitter_overlay\n",
    "    \n",
    "    filesDir = os.path.join(os.getcwd(), \"datasets\")\n",
    "    print(\"executing in Jupyter\")"
   ]
  },
  {
   "cell_type": "code",
   "execution_count": 3,
   "metadata": {
    "id": "fo_lmoVAiIlE"
   },
   "outputs": [],
   "source": [
    "np.random.seed(22)\n",
    "\n",
    "def get_url(image_name):\n",
    "    return \"https://github.com/munich-ml/BER_tail_fit/blob/main/images/{}.png?raw=true\".format(image_name)"
   ]
  },
  {
   "cell_type": "markdown",
   "metadata": {
    "id": "mXg7gAgNCEjK"
   },
   "source": [
    "# Introduction to Jitter"
   ]
  },
  {
   "cell_type": "markdown",
   "metadata": {
    "id": "Z_iehh9bHL0k"
   },
   "source": [
    "**Jitter** is the **timing uncertainty** of signal edges at the crossing point with their reference level (0V for differential signaling).\n",
    "\n",
    "Since **Noise** describes a level uncertainty, **timing noise** or **phase noise** (usually used in frequency domain).\n",
    "\n",
    "![nice](https://github.com/munich-ml/BER_tail_fit/blob/main/images/DJeye_dscr.png?raw=true)"
   ]
  },
  {
   "cell_type": "markdown",
   "metadata": {
    "id": "igDq9h_gXEQb"
   },
   "source": [
    "The **Total Jitter (TJ)** consists of 2 major components:\n",
    "\n",
    "**Random Jitter (RJ)**\n",
    "- unbounded --> increases over time\n",
    "- Gaussian distribution\n",
    "\n",
    "**Deterministic Jitter (DJ)**\n",
    "- bounded --> saturates over time \n",
    "- can be split into sub-components (e.g. PJ, DCD, ISI)\n",
    "\n",
    "\n"
   ]
  },
  {
   "cell_type": "markdown",
   "metadata": {
    "id": "ojB-5oSrcYYv"
   },
   "source": [
    "### Jitter in a transmission system"
   ]
  },
  {
   "cell_type": "markdown",
   "metadata": {
    "id": "r2ld4RqzBFLH"
   },
   "source": [
    "![Tx+channel+Rx](https://github.com/munich-ml/BER_tail_fit/blob/main/images/tx_channel_rx.png?raw=true)\n",
    "\n",
    "The Jitter needs to be small enough for the receiver to sample the `rx_data`, while satisfying its setup- and hold-requirements.\n"
   ]
  },
  {
   "cell_type": "markdown",
   "metadata": {
    "id": "uJJ5qe6glFgw"
   },
   "source": [
    "# Measure Jitter using a Scope"
   ]
  },
  {
   "cell_type": "markdown",
   "metadata": {
    "id": "GvlJENo6dFuG"
   },
   "source": [
    "A scope (realtime oscilloscope) measures jitter directly with the following basic procedure: \n",
    "- **wavetrace acquisition** (voltage over time bitstream)\n",
    "- **edge detection** (signal crossings with the reference voltage)\n",
    "- **clock recovery from data** (or usage of a strobe for source synchronous clocking schemas)\n",
    "- **data eye creation** (see Tektronix Primer)\n",
    "- **jitter** (or TIE: time interval error) is now given as edge distribution (e.g. Gaussian shaped)\n",
    "\n",
    "![eye_creation](https://github.com/munich-ml/BER_tail_fit/blob/main/images/eye_creation.png?raw=true)"
   ]
  },
  {
   "cell_type": "markdown",
   "metadata": {
    "id": "Ky_yzvOrWJUB"
   },
   "source": [
    "### Disadvantages of Jitter measurements using Scopes\n",
    "Although (realtime-) scopes are are very useful tool when analysing communication systems with respect to Jitter, their usage comes with some disadvantages:\n",
    "- scopes and probes are expensive\n",
    "- measurements are only available on individual samples and/or only during test  \n",
    "- the probes changes the channel, when being applied\n",
    "- the probes is placed somewhere on the channel, not at the receiver\n",
    "\n",
    "The **in-system FPGA-based measurement approach** proposed further down can potentially mitigate or even solve those issues."
   ]
  },
  {
   "cell_type": "markdown",
   "metadata": {
    "id": "fFF4IEVrGeaR"
   },
   "source": [
    "# How Jitter relates to the BER (bit error ratio) \n",
    "With higher jitter it is more likely for the receiver to sample too early or too late."
   ]
  },
  {
   "cell_type": "code",
   "execution_count": 4,
   "metadata": {
    "colab": {
     "base_uri": "https://localhost:8080/",
     "height": 545
    },
    "id": "rrK9MVEJla4U",
    "outputId": "87a24570-1255-4e3d-96fd-48b1f58276ec"
   },
   "outputs": [
    {
     "ename": "URLError",
     "evalue": "<urlopen error [SSL: CERTIFICATE_VERIFY_FAILED] certificate verify failed: unable to get local issuer certificate (_ssl.c:1123)>",
     "output_type": "error",
     "traceback": [
      "\u001b[1;31m---------------------------------------------------------------------------\u001b[0m",
      "\u001b[1;31mSSLCertVerificationError\u001b[0m                  Traceback (most recent call last)",
      "\u001b[1;32mC:\\ProgramData\\Anaconda3\\lib\\urllib\\request.py\u001b[0m in \u001b[0;36mdo_open\u001b[1;34m(self, http_class, req, **http_conn_args)\u001b[0m\n\u001b[0;32m   1349\u001b[0m             \u001b[1;32mtry\u001b[0m\u001b[1;33m:\u001b[0m\u001b[1;33m\u001b[0m\u001b[1;33m\u001b[0m\u001b[0m\n\u001b[1;32m-> 1350\u001b[1;33m                 h.request(req.get_method(), req.selector, req.data, headers,\n\u001b[0m\u001b[0;32m   1351\u001b[0m                           encode_chunked=req.has_header('Transfer-encoding'))\n",
      "\u001b[1;32mC:\\ProgramData\\Anaconda3\\lib\\http\\client.py\u001b[0m in \u001b[0;36mrequest\u001b[1;34m(self, method, url, body, headers, encode_chunked)\u001b[0m\n\u001b[0;32m   1254\u001b[0m         \u001b[1;34m\"\"\"Send a complete request to the server.\"\"\"\u001b[0m\u001b[1;33m\u001b[0m\u001b[1;33m\u001b[0m\u001b[0m\n\u001b[1;32m-> 1255\u001b[1;33m         \u001b[0mself\u001b[0m\u001b[1;33m.\u001b[0m\u001b[0m_send_request\u001b[0m\u001b[1;33m(\u001b[0m\u001b[0mmethod\u001b[0m\u001b[1;33m,\u001b[0m \u001b[0murl\u001b[0m\u001b[1;33m,\u001b[0m \u001b[0mbody\u001b[0m\u001b[1;33m,\u001b[0m \u001b[0mheaders\u001b[0m\u001b[1;33m,\u001b[0m \u001b[0mencode_chunked\u001b[0m\u001b[1;33m)\u001b[0m\u001b[1;33m\u001b[0m\u001b[1;33m\u001b[0m\u001b[0m\n\u001b[0m\u001b[0;32m   1256\u001b[0m \u001b[1;33m\u001b[0m\u001b[0m\n",
      "\u001b[1;32mC:\\ProgramData\\Anaconda3\\lib\\http\\client.py\u001b[0m in \u001b[0;36m_send_request\u001b[1;34m(self, method, url, body, headers, encode_chunked)\u001b[0m\n\u001b[0;32m   1300\u001b[0m             \u001b[0mbody\u001b[0m \u001b[1;33m=\u001b[0m \u001b[0m_encode\u001b[0m\u001b[1;33m(\u001b[0m\u001b[0mbody\u001b[0m\u001b[1;33m,\u001b[0m \u001b[1;34m'body'\u001b[0m\u001b[1;33m)\u001b[0m\u001b[1;33m\u001b[0m\u001b[1;33m\u001b[0m\u001b[0m\n\u001b[1;32m-> 1301\u001b[1;33m         \u001b[0mself\u001b[0m\u001b[1;33m.\u001b[0m\u001b[0mendheaders\u001b[0m\u001b[1;33m(\u001b[0m\u001b[0mbody\u001b[0m\u001b[1;33m,\u001b[0m \u001b[0mencode_chunked\u001b[0m\u001b[1;33m=\u001b[0m\u001b[0mencode_chunked\u001b[0m\u001b[1;33m)\u001b[0m\u001b[1;33m\u001b[0m\u001b[1;33m\u001b[0m\u001b[0m\n\u001b[0m\u001b[0;32m   1302\u001b[0m \u001b[1;33m\u001b[0m\u001b[0m\n",
      "\u001b[1;32mC:\\ProgramData\\Anaconda3\\lib\\http\\client.py\u001b[0m in \u001b[0;36mendheaders\u001b[1;34m(self, message_body, encode_chunked)\u001b[0m\n\u001b[0;32m   1249\u001b[0m             \u001b[1;32mraise\u001b[0m \u001b[0mCannotSendHeader\u001b[0m\u001b[1;33m(\u001b[0m\u001b[1;33m)\u001b[0m\u001b[1;33m\u001b[0m\u001b[1;33m\u001b[0m\u001b[0m\n\u001b[1;32m-> 1250\u001b[1;33m         \u001b[0mself\u001b[0m\u001b[1;33m.\u001b[0m\u001b[0m_send_output\u001b[0m\u001b[1;33m(\u001b[0m\u001b[0mmessage_body\u001b[0m\u001b[1;33m,\u001b[0m \u001b[0mencode_chunked\u001b[0m\u001b[1;33m=\u001b[0m\u001b[0mencode_chunked\u001b[0m\u001b[1;33m)\u001b[0m\u001b[1;33m\u001b[0m\u001b[1;33m\u001b[0m\u001b[0m\n\u001b[0m\u001b[0;32m   1251\u001b[0m \u001b[1;33m\u001b[0m\u001b[0m\n",
      "\u001b[1;32mC:\\ProgramData\\Anaconda3\\lib\\http\\client.py\u001b[0m in \u001b[0;36m_send_output\u001b[1;34m(self, message_body, encode_chunked)\u001b[0m\n\u001b[0;32m   1009\u001b[0m         \u001b[1;32mdel\u001b[0m \u001b[0mself\u001b[0m\u001b[1;33m.\u001b[0m\u001b[0m_buffer\u001b[0m\u001b[1;33m[\u001b[0m\u001b[1;33m:\u001b[0m\u001b[1;33m]\u001b[0m\u001b[1;33m\u001b[0m\u001b[1;33m\u001b[0m\u001b[0m\n\u001b[1;32m-> 1010\u001b[1;33m         \u001b[0mself\u001b[0m\u001b[1;33m.\u001b[0m\u001b[0msend\u001b[0m\u001b[1;33m(\u001b[0m\u001b[0mmsg\u001b[0m\u001b[1;33m)\u001b[0m\u001b[1;33m\u001b[0m\u001b[1;33m\u001b[0m\u001b[0m\n\u001b[0m\u001b[0;32m   1011\u001b[0m \u001b[1;33m\u001b[0m\u001b[0m\n",
      "\u001b[1;32mC:\\ProgramData\\Anaconda3\\lib\\http\\client.py\u001b[0m in \u001b[0;36msend\u001b[1;34m(self, data)\u001b[0m\n\u001b[0;32m    949\u001b[0m             \u001b[1;32mif\u001b[0m \u001b[0mself\u001b[0m\u001b[1;33m.\u001b[0m\u001b[0mauto_open\u001b[0m\u001b[1;33m:\u001b[0m\u001b[1;33m\u001b[0m\u001b[1;33m\u001b[0m\u001b[0m\n\u001b[1;32m--> 950\u001b[1;33m                 \u001b[0mself\u001b[0m\u001b[1;33m.\u001b[0m\u001b[0mconnect\u001b[0m\u001b[1;33m(\u001b[0m\u001b[1;33m)\u001b[0m\u001b[1;33m\u001b[0m\u001b[1;33m\u001b[0m\u001b[0m\n\u001b[0m\u001b[0;32m    951\u001b[0m             \u001b[1;32melse\u001b[0m\u001b[1;33m:\u001b[0m\u001b[1;33m\u001b[0m\u001b[1;33m\u001b[0m\u001b[0m\n",
      "\u001b[1;32mC:\\ProgramData\\Anaconda3\\lib\\http\\client.py\u001b[0m in \u001b[0;36mconnect\u001b[1;34m(self)\u001b[0m\n\u001b[0;32m   1423\u001b[0m \u001b[1;33m\u001b[0m\u001b[0m\n\u001b[1;32m-> 1424\u001b[1;33m             self.sock = self._context.wrap_socket(self.sock,\n\u001b[0m\u001b[0;32m   1425\u001b[0m                                                   server_hostname=server_hostname)\n",
      "\u001b[1;32mC:\\ProgramData\\Anaconda3\\lib\\ssl.py\u001b[0m in \u001b[0;36mwrap_socket\u001b[1;34m(self, sock, server_side, do_handshake_on_connect, suppress_ragged_eofs, server_hostname, session)\u001b[0m\n\u001b[0;32m    499\u001b[0m         \u001b[1;31m# ctx._wrap_socket()\u001b[0m\u001b[1;33m\u001b[0m\u001b[1;33m\u001b[0m\u001b[1;33m\u001b[0m\u001b[0m\n\u001b[1;32m--> 500\u001b[1;33m         return self.sslsocket_class._create(\n\u001b[0m\u001b[0;32m    501\u001b[0m             \u001b[0msock\u001b[0m\u001b[1;33m=\u001b[0m\u001b[0msock\u001b[0m\u001b[1;33m,\u001b[0m\u001b[1;33m\u001b[0m\u001b[1;33m\u001b[0m\u001b[0m\n",
      "\u001b[1;32mC:\\ProgramData\\Anaconda3\\lib\\ssl.py\u001b[0m in \u001b[0;36m_create\u001b[1;34m(cls, sock, server_side, do_handshake_on_connect, suppress_ragged_eofs, server_hostname, context, session)\u001b[0m\n\u001b[0;32m   1039\u001b[0m                         \u001b[1;32mraise\u001b[0m \u001b[0mValueError\u001b[0m\u001b[1;33m(\u001b[0m\u001b[1;34m\"do_handshake_on_connect should not be specified for non-blocking sockets\"\u001b[0m\u001b[1;33m)\u001b[0m\u001b[1;33m\u001b[0m\u001b[1;33m\u001b[0m\u001b[0m\n\u001b[1;32m-> 1040\u001b[1;33m                     \u001b[0mself\u001b[0m\u001b[1;33m.\u001b[0m\u001b[0mdo_handshake\u001b[0m\u001b[1;33m(\u001b[0m\u001b[1;33m)\u001b[0m\u001b[1;33m\u001b[0m\u001b[1;33m\u001b[0m\u001b[0m\n\u001b[0m\u001b[0;32m   1041\u001b[0m             \u001b[1;32mexcept\u001b[0m \u001b[1;33m(\u001b[0m\u001b[0mOSError\u001b[0m\u001b[1;33m,\u001b[0m \u001b[0mValueError\u001b[0m\u001b[1;33m)\u001b[0m\u001b[1;33m:\u001b[0m\u001b[1;33m\u001b[0m\u001b[1;33m\u001b[0m\u001b[0m\n",
      "\u001b[1;32mC:\\ProgramData\\Anaconda3\\lib\\ssl.py\u001b[0m in \u001b[0;36mdo_handshake\u001b[1;34m(self, block)\u001b[0m\n\u001b[0;32m   1308\u001b[0m                 \u001b[0mself\u001b[0m\u001b[1;33m.\u001b[0m\u001b[0msettimeout\u001b[0m\u001b[1;33m(\u001b[0m\u001b[1;32mNone\u001b[0m\u001b[1;33m)\u001b[0m\u001b[1;33m\u001b[0m\u001b[1;33m\u001b[0m\u001b[0m\n\u001b[1;32m-> 1309\u001b[1;33m             \u001b[0mself\u001b[0m\u001b[1;33m.\u001b[0m\u001b[0m_sslobj\u001b[0m\u001b[1;33m.\u001b[0m\u001b[0mdo_handshake\u001b[0m\u001b[1;33m(\u001b[0m\u001b[1;33m)\u001b[0m\u001b[1;33m\u001b[0m\u001b[1;33m\u001b[0m\u001b[0m\n\u001b[0m\u001b[0;32m   1310\u001b[0m         \u001b[1;32mfinally\u001b[0m\u001b[1;33m:\u001b[0m\u001b[1;33m\u001b[0m\u001b[1;33m\u001b[0m\u001b[0m\n",
      "\u001b[1;31mSSLCertVerificationError\u001b[0m: [SSL: CERTIFICATE_VERIFY_FAILED] certificate verify failed: unable to get local issuer certificate (_ssl.c:1123)",
      "\nDuring handling of the above exception, another exception occurred:\n",
      "\u001b[1;31mURLError\u001b[0m                                  Traceback (most recent call last)",
      "\u001b[1;32m<ipython-input-4-9c2593ba6014>\u001b[0m in \u001b[0;36m<module>\u001b[1;34m\u001b[0m\n\u001b[0;32m      6\u001b[0m \u001b[1;33m\u001b[0m\u001b[0m\n\u001b[0;32m      7\u001b[0m \u001b[0mplt\u001b[0m\u001b[1;33m.\u001b[0m\u001b[0mfigure\u001b[0m\u001b[1;33m(\u001b[0m\u001b[0mfigsize\u001b[0m\u001b[1;33m=\u001b[0m\u001b[1;33m(\u001b[0m\u001b[1;36m8\u001b[0m\u001b[1;33m,\u001b[0m \u001b[1;36m9\u001b[0m\u001b[1;33m)\u001b[0m\u001b[1;33m)\u001b[0m\u001b[1;33m,\u001b[0m \u001b[0mplt\u001b[0m\u001b[1;33m.\u001b[0m\u001b[0msubplot\u001b[0m\u001b[1;33m(\u001b[0m\u001b[1;36m2\u001b[0m\u001b[1;33m,\u001b[0m\u001b[1;36m1\u001b[0m\u001b[1;33m,\u001b[0m\u001b[1;36m1\u001b[0m\u001b[1;33m)\u001b[0m\u001b[1;33m\u001b[0m\u001b[1;33m\u001b[0m\u001b[0m\n\u001b[1;32m----> 8\u001b[1;33m \u001b[0mplt\u001b[0m\u001b[1;33m.\u001b[0m\u001b[0mimshow\u001b[0m\u001b[1;33m(\u001b[0m\u001b[0mplt\u001b[0m\u001b[1;33m.\u001b[0m\u001b[0mimread\u001b[0m\u001b[1;33m(\u001b[0m\u001b[0mget_url\u001b[0m\u001b[1;33m(\u001b[0m\u001b[1;34m\"RJeye\"\u001b[0m\u001b[1;33m)\u001b[0m\u001b[1;33m)\u001b[0m\u001b[1;33m)\u001b[0m\u001b[1;33m,\u001b[0m \u001b[0mplt\u001b[0m\u001b[1;33m.\u001b[0m\u001b[0maxis\u001b[0m\u001b[1;33m(\u001b[0m\u001b[1;34m\"off\"\u001b[0m\u001b[1;33m)\u001b[0m\u001b[1;33m\u001b[0m\u001b[1;33m\u001b[0m\u001b[0m\n\u001b[0m\u001b[0;32m      9\u001b[0m \u001b[1;33m\u001b[0m\u001b[0m\n\u001b[0;32m     10\u001b[0m \u001b[0mplt\u001b[0m\u001b[1;33m.\u001b[0m\u001b[0msubplot\u001b[0m\u001b[1;33m(\u001b[0m\u001b[1;36m2\u001b[0m\u001b[1;33m,\u001b[0m\u001b[1;36m1\u001b[0m\u001b[1;33m,\u001b[0m\u001b[1;36m2\u001b[0m\u001b[1;33m)\u001b[0m\u001b[1;33m\u001b[0m\u001b[1;33m\u001b[0m\u001b[0m\n",
      "\u001b[1;32mC:\\ProgramData\\Anaconda3\\lib\\site-packages\\matplotlib\\pyplot.py\u001b[0m in \u001b[0;36mimread\u001b[1;34m(fname, format)\u001b[0m\n\u001b[0;32m   2244\u001b[0m \u001b[1;33m@\u001b[0m\u001b[0m_copy_docstring_and_deprecators\u001b[0m\u001b[1;33m(\u001b[0m\u001b[0mmatplotlib\u001b[0m\u001b[1;33m.\u001b[0m\u001b[0mimage\u001b[0m\u001b[1;33m.\u001b[0m\u001b[0mimread\u001b[0m\u001b[1;33m)\u001b[0m\u001b[1;33m\u001b[0m\u001b[1;33m\u001b[0m\u001b[0m\n\u001b[0;32m   2245\u001b[0m \u001b[1;32mdef\u001b[0m \u001b[0mimread\u001b[0m\u001b[1;33m(\u001b[0m\u001b[0mfname\u001b[0m\u001b[1;33m,\u001b[0m \u001b[0mformat\u001b[0m\u001b[1;33m=\u001b[0m\u001b[1;32mNone\u001b[0m\u001b[1;33m)\u001b[0m\u001b[1;33m:\u001b[0m\u001b[1;33m\u001b[0m\u001b[1;33m\u001b[0m\u001b[0m\n\u001b[1;32m-> 2246\u001b[1;33m     \u001b[1;32mreturn\u001b[0m \u001b[0mmatplotlib\u001b[0m\u001b[1;33m.\u001b[0m\u001b[0mimage\u001b[0m\u001b[1;33m.\u001b[0m\u001b[0mimread\u001b[0m\u001b[1;33m(\u001b[0m\u001b[0mfname\u001b[0m\u001b[1;33m,\u001b[0m \u001b[0mformat\u001b[0m\u001b[1;33m)\u001b[0m\u001b[1;33m\u001b[0m\u001b[1;33m\u001b[0m\u001b[0m\n\u001b[0m\u001b[0;32m   2247\u001b[0m \u001b[1;33m\u001b[0m\u001b[0m\n\u001b[0;32m   2248\u001b[0m \u001b[1;33m\u001b[0m\u001b[0m\n",
      "\u001b[1;32mC:\\ProgramData\\Anaconda3\\lib\\site-packages\\matplotlib\\image.py\u001b[0m in \u001b[0;36mimread\u001b[1;34m(fname, format)\u001b[0m\n\u001b[0;32m   1480\u001b[0m             \u001b[1;31m# hide imports to speed initial import on systems with slow linkers\u001b[0m\u001b[1;33m\u001b[0m\u001b[1;33m\u001b[0m\u001b[1;33m\u001b[0m\u001b[0m\n\u001b[0;32m   1481\u001b[0m             \u001b[1;32mfrom\u001b[0m \u001b[0murllib\u001b[0m \u001b[1;32mimport\u001b[0m \u001b[0mrequest\u001b[0m\u001b[1;33m\u001b[0m\u001b[1;33m\u001b[0m\u001b[0m\n\u001b[1;32m-> 1482\u001b[1;33m             with request.urlopen(fname,\n\u001b[0m\u001b[0;32m   1483\u001b[0m                                  context=mpl._get_ssl_context()) as response:\n\u001b[0;32m   1484\u001b[0m                 \u001b[1;32mimport\u001b[0m \u001b[0mio\u001b[0m\u001b[1;33m\u001b[0m\u001b[1;33m\u001b[0m\u001b[0m\n",
      "\u001b[1;32mC:\\ProgramData\\Anaconda3\\lib\\urllib\\request.py\u001b[0m in \u001b[0;36murlopen\u001b[1;34m(url, data, timeout, cafile, capath, cadefault, context)\u001b[0m\n\u001b[0;32m    220\u001b[0m     \u001b[1;32melse\u001b[0m\u001b[1;33m:\u001b[0m\u001b[1;33m\u001b[0m\u001b[1;33m\u001b[0m\u001b[0m\n\u001b[0;32m    221\u001b[0m         \u001b[0mopener\u001b[0m \u001b[1;33m=\u001b[0m \u001b[0m_opener\u001b[0m\u001b[1;33m\u001b[0m\u001b[1;33m\u001b[0m\u001b[0m\n\u001b[1;32m--> 222\u001b[1;33m     \u001b[1;32mreturn\u001b[0m \u001b[0mopener\u001b[0m\u001b[1;33m.\u001b[0m\u001b[0mopen\u001b[0m\u001b[1;33m(\u001b[0m\u001b[0murl\u001b[0m\u001b[1;33m,\u001b[0m \u001b[0mdata\u001b[0m\u001b[1;33m,\u001b[0m \u001b[0mtimeout\u001b[0m\u001b[1;33m)\u001b[0m\u001b[1;33m\u001b[0m\u001b[1;33m\u001b[0m\u001b[0m\n\u001b[0m\u001b[0;32m    223\u001b[0m \u001b[1;33m\u001b[0m\u001b[0m\n\u001b[0;32m    224\u001b[0m \u001b[1;32mdef\u001b[0m \u001b[0minstall_opener\u001b[0m\u001b[1;33m(\u001b[0m\u001b[0mopener\u001b[0m\u001b[1;33m)\u001b[0m\u001b[1;33m:\u001b[0m\u001b[1;33m\u001b[0m\u001b[1;33m\u001b[0m\u001b[0m\n",
      "\u001b[1;32mC:\\ProgramData\\Anaconda3\\lib\\urllib\\request.py\u001b[0m in \u001b[0;36mopen\u001b[1;34m(self, fullurl, data, timeout)\u001b[0m\n\u001b[0;32m    523\u001b[0m \u001b[1;33m\u001b[0m\u001b[0m\n\u001b[0;32m    524\u001b[0m         \u001b[0msys\u001b[0m\u001b[1;33m.\u001b[0m\u001b[0maudit\u001b[0m\u001b[1;33m(\u001b[0m\u001b[1;34m'urllib.Request'\u001b[0m\u001b[1;33m,\u001b[0m \u001b[0mreq\u001b[0m\u001b[1;33m.\u001b[0m\u001b[0mfull_url\u001b[0m\u001b[1;33m,\u001b[0m \u001b[0mreq\u001b[0m\u001b[1;33m.\u001b[0m\u001b[0mdata\u001b[0m\u001b[1;33m,\u001b[0m \u001b[0mreq\u001b[0m\u001b[1;33m.\u001b[0m\u001b[0mheaders\u001b[0m\u001b[1;33m,\u001b[0m \u001b[0mreq\u001b[0m\u001b[1;33m.\u001b[0m\u001b[0mget_method\u001b[0m\u001b[1;33m(\u001b[0m\u001b[1;33m)\u001b[0m\u001b[1;33m)\u001b[0m\u001b[1;33m\u001b[0m\u001b[1;33m\u001b[0m\u001b[0m\n\u001b[1;32m--> 525\u001b[1;33m         \u001b[0mresponse\u001b[0m \u001b[1;33m=\u001b[0m \u001b[0mself\u001b[0m\u001b[1;33m.\u001b[0m\u001b[0m_open\u001b[0m\u001b[1;33m(\u001b[0m\u001b[0mreq\u001b[0m\u001b[1;33m,\u001b[0m \u001b[0mdata\u001b[0m\u001b[1;33m)\u001b[0m\u001b[1;33m\u001b[0m\u001b[1;33m\u001b[0m\u001b[0m\n\u001b[0m\u001b[0;32m    526\u001b[0m \u001b[1;33m\u001b[0m\u001b[0m\n\u001b[0;32m    527\u001b[0m         \u001b[1;31m# post-process response\u001b[0m\u001b[1;33m\u001b[0m\u001b[1;33m\u001b[0m\u001b[1;33m\u001b[0m\u001b[0m\n",
      "\u001b[1;32mC:\\ProgramData\\Anaconda3\\lib\\urllib\\request.py\u001b[0m in \u001b[0;36m_open\u001b[1;34m(self, req, data)\u001b[0m\n\u001b[0;32m    540\u001b[0m \u001b[1;33m\u001b[0m\u001b[0m\n\u001b[0;32m    541\u001b[0m         \u001b[0mprotocol\u001b[0m \u001b[1;33m=\u001b[0m \u001b[0mreq\u001b[0m\u001b[1;33m.\u001b[0m\u001b[0mtype\u001b[0m\u001b[1;33m\u001b[0m\u001b[1;33m\u001b[0m\u001b[0m\n\u001b[1;32m--> 542\u001b[1;33m         result = self._call_chain(self.handle_open, protocol, protocol +\n\u001b[0m\u001b[0;32m    543\u001b[0m                                   '_open', req)\n\u001b[0;32m    544\u001b[0m         \u001b[1;32mif\u001b[0m \u001b[0mresult\u001b[0m\u001b[1;33m:\u001b[0m\u001b[1;33m\u001b[0m\u001b[1;33m\u001b[0m\u001b[0m\n",
      "\u001b[1;32mC:\\ProgramData\\Anaconda3\\lib\\urllib\\request.py\u001b[0m in \u001b[0;36m_call_chain\u001b[1;34m(self, chain, kind, meth_name, *args)\u001b[0m\n\u001b[0;32m    500\u001b[0m         \u001b[1;32mfor\u001b[0m \u001b[0mhandler\u001b[0m \u001b[1;32min\u001b[0m \u001b[0mhandlers\u001b[0m\u001b[1;33m:\u001b[0m\u001b[1;33m\u001b[0m\u001b[1;33m\u001b[0m\u001b[0m\n\u001b[0;32m    501\u001b[0m             \u001b[0mfunc\u001b[0m \u001b[1;33m=\u001b[0m \u001b[0mgetattr\u001b[0m\u001b[1;33m(\u001b[0m\u001b[0mhandler\u001b[0m\u001b[1;33m,\u001b[0m \u001b[0mmeth_name\u001b[0m\u001b[1;33m)\u001b[0m\u001b[1;33m\u001b[0m\u001b[1;33m\u001b[0m\u001b[0m\n\u001b[1;32m--> 502\u001b[1;33m             \u001b[0mresult\u001b[0m \u001b[1;33m=\u001b[0m \u001b[0mfunc\u001b[0m\u001b[1;33m(\u001b[0m\u001b[1;33m*\u001b[0m\u001b[0margs\u001b[0m\u001b[1;33m)\u001b[0m\u001b[1;33m\u001b[0m\u001b[1;33m\u001b[0m\u001b[0m\n\u001b[0m\u001b[0;32m    503\u001b[0m             \u001b[1;32mif\u001b[0m \u001b[0mresult\u001b[0m \u001b[1;32mis\u001b[0m \u001b[1;32mnot\u001b[0m \u001b[1;32mNone\u001b[0m\u001b[1;33m:\u001b[0m\u001b[1;33m\u001b[0m\u001b[1;33m\u001b[0m\u001b[0m\n\u001b[0;32m    504\u001b[0m                 \u001b[1;32mreturn\u001b[0m \u001b[0mresult\u001b[0m\u001b[1;33m\u001b[0m\u001b[1;33m\u001b[0m\u001b[0m\n",
      "\u001b[1;32mC:\\ProgramData\\Anaconda3\\lib\\urllib\\request.py\u001b[0m in \u001b[0;36mhttps_open\u001b[1;34m(self, req)\u001b[0m\n\u001b[0;32m   1391\u001b[0m \u001b[1;33m\u001b[0m\u001b[0m\n\u001b[0;32m   1392\u001b[0m         \u001b[1;32mdef\u001b[0m \u001b[0mhttps_open\u001b[0m\u001b[1;33m(\u001b[0m\u001b[0mself\u001b[0m\u001b[1;33m,\u001b[0m \u001b[0mreq\u001b[0m\u001b[1;33m)\u001b[0m\u001b[1;33m:\u001b[0m\u001b[1;33m\u001b[0m\u001b[1;33m\u001b[0m\u001b[0m\n\u001b[1;32m-> 1393\u001b[1;33m             return self.do_open(http.client.HTTPSConnection, req,\n\u001b[0m\u001b[0;32m   1394\u001b[0m                 context=self._context, check_hostname=self._check_hostname)\n\u001b[0;32m   1395\u001b[0m \u001b[1;33m\u001b[0m\u001b[0m\n",
      "\u001b[1;32mC:\\ProgramData\\Anaconda3\\lib\\urllib\\request.py\u001b[0m in \u001b[0;36mdo_open\u001b[1;34m(self, http_class, req, **http_conn_args)\u001b[0m\n\u001b[0;32m   1351\u001b[0m                           encode_chunked=req.has_header('Transfer-encoding'))\n\u001b[0;32m   1352\u001b[0m             \u001b[1;32mexcept\u001b[0m \u001b[0mOSError\u001b[0m \u001b[1;32mas\u001b[0m \u001b[0merr\u001b[0m\u001b[1;33m:\u001b[0m \u001b[1;31m# timeout error\u001b[0m\u001b[1;33m\u001b[0m\u001b[1;33m\u001b[0m\u001b[0m\n\u001b[1;32m-> 1353\u001b[1;33m                 \u001b[1;32mraise\u001b[0m \u001b[0mURLError\u001b[0m\u001b[1;33m(\u001b[0m\u001b[0merr\u001b[0m\u001b[1;33m)\u001b[0m\u001b[1;33m\u001b[0m\u001b[1;33m\u001b[0m\u001b[0m\n\u001b[0m\u001b[0;32m   1354\u001b[0m             \u001b[0mr\u001b[0m \u001b[1;33m=\u001b[0m \u001b[0mh\u001b[0m\u001b[1;33m.\u001b[0m\u001b[0mgetresponse\u001b[0m\u001b[1;33m(\u001b[0m\u001b[1;33m)\u001b[0m\u001b[1;33m\u001b[0m\u001b[1;33m\u001b[0m\u001b[0m\n\u001b[0;32m   1355\u001b[0m         \u001b[1;32mexcept\u001b[0m\u001b[1;33m:\u001b[0m\u001b[1;33m\u001b[0m\u001b[1;33m\u001b[0m\u001b[0m\n",
      "\u001b[1;31mURLError\u001b[0m: <urlopen error [SSL: CERTIFICATE_VERIFY_FAILED] certificate verify failed: unable to get local issuer certificate (_ssl.c:1123)>"
     ]
    },
    {
     "data": {
      "image/png": "[encoded data removed]",
      "text/plain": [
       "<Figure size 576x648 with 1 Axes>"
      ]
     },
     "metadata": {
      "needs_background": "light"
     },
     "output_type": "display_data"
    }
   ],
   "source": [
    "x = np.linspace(-5/6, 5/6, num=500)\n",
    "scale = 0.05    # sigmal value of the gaussian distribution\n",
    "norm_pdf = norm.pdf(x, loc=-0.5, scale=scale) + norm.pdf(x, loc=0.5, scale=scale) \n",
    "too_early = 1 - norm.cdf(x, loc=-0.5, scale=scale) \n",
    "too_late = norm.cdf(x, loc=0.5, scale=scale) \n",
    "\n",
    "plt.figure(figsize=(8, 9)), plt.subplot(2,1,1)\n",
    "plt.imshow(plt.imread(get_url(\"RJeye\"))), plt.axis(\"off\")\n",
    "\n",
    "plt.subplot(2,1,2)\n",
    "plt.fill_between(x, norm_pdf / norm_pdf.max(), color=\"orange\", label=\"normalized gaussian PDF\")\n",
    "plt.plot(x, too_early, \"k-.\", label=\"gaussian CDF @mu=0: sampling too early\")\n",
    "plt.plot(x, too_late, \"b-.\", label=\"gaussian CDF @mu=1: sampling too late\")\n",
    "plt.xlim([min(x), max(x)]), plt.xticks(np.linspace(min(x), max(x), num=11))\n",
    "plt.xlabel(\"time [UI]\"), plt.grid(), plt.legend();"
   ]
  },
  {
   "cell_type": "markdown",
   "metadata": {
    "id": "VeIFs5OIGeaQ"
   },
   "source": [
    "The example above shows a data eye together with the distribution of it's crossings (jitter distribution. PDF).\n",
    "\n",
    "Integrating the PDF provides the likelihood of sampling too early or to late (CDF).\n"
   ]
  },
  {
   "cell_type": "markdown",
   "metadata": {},
   "source": [
    "### BER definition\n",
    "\n",
    "The **bit error ratio ($BER$)** is a *figure of merit* for a link quality, commonly used in communications engineering.\n",
    "\n",
    "The $BER$ described, how many bit errors there are (on average) within the received data stream: $BER=\\frac{error\\_bits}{received\\_bits}$\n",
    "\n",
    "A typical specification is: $BER < 10^{-12}$"
   ]
  },
  {
   "cell_type": "markdown",
   "metadata": {
    "id": "bMvGpMZcGeaR"
   },
   "source": [
    "### BER tail fitting\n",
    "\n",
    "The basic idea of BER tail fitting is to fit BER samples from measurements to a Jitter model, consisting of:\n",
    "- $\\sigma$, `sigma`: Standard diviation of the Gaussian conresponding to the **RJ** (random jitter)\n",
    "- $\\mu$, `mu`: Mean value of the Gaussian conresponding to the **DJ** (deterministic jitter)\n",
    "\n",
    "The **Gaussian Model** is fitted to only to those BER samples that are below a certain BER threshold $BERt$ (below means *later* in test time). The $BERt$ is chosen such that ideally all deterministic jitter sources completed one cycle.\n"
   ]
  },
  {
   "cell_type": "code",
   "execution_count": null,
   "metadata": {
    "colab": {
     "base_uri": "https://localhost:8080/",
     "height": 513
    },
    "id": "8VhKPX_2GeaR",
    "outputId": "38c5a13f-dbff-4ba0-9f76-c2f29730d46d"
   },
   "outputs": [],
   "source": [
    "mu = -0.48         # mean value of the distribution \n",
    "sigma = 0.04       # standard deviation\n",
    "ui_pos = -0.42     # sample position (example)\n",
    "x = np.linspace(-0.5, 0, 500)  \n",
    "pdf = norm.pdf(x, loc=mu, scale=sigma)  # compute pdf for variable x\n",
    "\n",
    "def cdf(x):  # define the CDF (cumulative density function) using the erf (error function)\n",
    "    return 0.5 * (1+special.erf( (x-mu)/(np.sqrt(2)*sigma) ))\n",
    "\n",
    "plt.figure(figsize=(10,8)), plt.subplot(3,1,1)\n",
    "plt.plot(x, pdf, \"k\", label=\"PDF(x)\")\n",
    "plt.stem([ui_pos], [max(pdf)], markerfmt='D', use_line_collection=True, label=\"sample position\")\n",
    "plt.fill_between(x[x <= ui_pos], pdf[x <= ui_pos], color=\"green\", alpha=0.4, label=\"P1\")\n",
    "plt.fill_between(x[x > ui_pos], pdf[x > ui_pos], color=\"red\", alpha=0.4, label=\"P2\")\n",
    "plt.title(f\"Edge probability 'left side data eye' with mu={mu}, sigma={sigma}\")\n",
    "plt.ylabel(\"probability density\"), plt.legend(), plt.grid()\n",
    "\n",
    "plt.subplot(3,1,2)\n",
    "plt.plot(x, cdf(x), \"g\", label=\"CDF(x) = P1(x)\")\n",
    "plt.plot(x, 1-cdf(x), \"r\", label=\"1-CDF(x) = P2(x)\")\n",
    "plt.plot(2*[ui_pos], [cdf(ui_pos), 1-cdf(ui_pos)], \"bD\", label=\"sample position\")\n",
    "plt.ylabel(\"probability\"), plt.legend(), plt.grid();\n",
    "\n",
    "plt.subplot(3,1,3)\n",
    "plt.semilogy(x, 1-cdf(x), \"r\", label=\"1-CDF(x) = P2(x)\")\n",
    "plt.semilogy([ui_pos], [1-cdf(ui_pos)], \"bD\", label=\"sample position\")\n",
    "plt.ylabel(\"probability\"), plt.ylim([1e-12, 1])\n",
    "plt.xlabel(\"x [UI]\"), plt.legend(), plt.grid();"
   ]
  },
  {
   "cell_type": "markdown",
   "metadata": {
    "id": "Vj8GFn14GeaS"
   },
   "source": [
    "The **edge distribution** at $\\pm\\frac{1}{2}UI$ is assumed to have a **gaussian distribution** according to  \n",
    "\n",
    "> $PDF(x) = \\frac{1}{\\sigma\\sqrt{2\\pi} }e^{-\\frac{(x - \\mu)^{2}}{2\\sigma^2}}$\n",
    "> \n",
    "> with\n",
    "> - $PDF$ = normal probability density function, available in [scipy.stats.norm](https://docs.scipy.org/doc/scipy/reference/generated/scipy.stats.norm.html?highlight=stats%20norm#scipy.stats.norm)\n",
    "> - $\\sigma$ (*sigma*) = standard deviation\n",
    "> - $\\mu$ (*mu*) = mean value \n",
    "\n",
    "When looking for the `bit error count`, \n",
    "- all edges **left** from the `sample position` within $-\\frac{1}{2}UI  \\cdots 0UI$ provide good data, \n",
    "- while all edges **right** from the `sample position` provide data from the previous Unit Interval, thus **bit errors** at a rate of 0.5 (because every other bit is statistically right, if there are just *ones* and *zeros*)\n",
    "\n",
    "Therefore, the area $P2$ represents the $BER$ (Bit Error Ratio) with\n",
    "\n",
    "> $BER = \\frac{1}{2}{P2}$\n",
    "\n",
    "The **integration of the Gaussian** can be done by means of the **Error Function** $erf(x)$, which is nicely described in \n",
    "[Integration of Gaussian between limits](https://www.youtube.com/watch?v=26QbWYBCw7Y): \n",
    "\n",
    "> $CDF(x) = \\frac{1}{2}[1+erf(\\frac{x-\\mu}{\\sigma\\sqrt2})]$\n",
    ">\n",
    "> with\n",
    "> - $CDF$ = cumulative density function of a Gaussian\n",
    "> - $erf$ = error function\n",
    "> - $\\sigma$ (*sigma*) = standard deviation\n",
    "> - $\\mu$ (*mu*) = mean value \n",
    "\n",
    "Just for reference, the Error Function is defined as:\n",
    "\n",
    "> $erf(x)=\\frac2{\\sqrt{\\pi}}\\int_0^x e^{-t^2} \\,dt$\n",
    "\n",
    "Returning to the **data eye problem**, the $CDF(sample\\_position)$ equals the area $P1$, and therefore:\n",
    "\n",
    "> $BER = \\frac{1}{2}[1-CDF(x)] = \\frac{1}{4}[1-erf(\\frac{x-\\mu}{\\sigma\\sqrt2})]$\n",
    "\n",
    "With the **[complementary error function](https://docs.scipy.org/doc/scipy/reference/generated/scipy.special.erfc.html)** $erfc(x) = 1-erf(x)$, we get:\n",
    "\n",
    "> $BER = \\frac{1}{4} erfc(\\frac{x-\\mu}{\\sigma\\sqrt2})$\n",
    "\n",
    "This equation needs to be resolved for $x$, because the we need to find the $sample\\_position$ for a given $BER$. Fortunately, there is an **[inverse compementary error function](https://docs.scipy.org/doc/scipy/reference/generated/scipy.special.erfcinv.html#scipy.special.erfcinv)** $erfcinv$, which leads to the final equation:\n",
    "\n",
    "> $x = erfcinv(4BER)\\ \\sigma\\sqrt2 + \\mu$ \n",
    ">\n",
    "> again with\n",
    "> - $x$ = sample position (on the left half of the unit interval)\n",
    "> - $erfcinv$ = inverse complementary error function\n",
    "> - $BER$ = Bit Error Ratio, at which the distribution is evaluated\n",
    "> - $\\sigma$ (*sigma*) = standard deviation of the Gaussian\n",
    "> - $\\mu$ (*mu*) = mean value of the Gaussian\n"
   ]
  },
  {
   "cell_type": "markdown",
   "metadata": {
    "id": "vVHSrjtZZULQ"
   },
   "source": [
    "# FPGA build-in BERT"
   ]
  },
  {
   "cell_type": "markdown",
   "metadata": {
    "id": "7auK2v53ZbVf"
   },
   "source": [
    "FPGA-maker XILINX offers **Integrated Bit Error Ratio Tester IBERT** for their [7-Series GTP transceivers](https://www.xilinx.com/support/documentation/white_papers/wp428-7Series-Serial-Link-Signal-Analysis.pdf) and [UltraScale/UltraScale+ GTX and GTY transceivers](https://www.xilinx.com/products/intellectual-property/ibert_ultrascale_gth.html#overview).\n",
    "\n",
    "\n",
    "![WP482](https://github.com/munich-ml/BER_tail_fit/blob/main/images/wp482.png?raw=true)\n"
   ]
  },
  {
   "cell_type": "markdown",
   "metadata": {
    "id": "_vIaceeWGeaU"
   },
   "source": [
    "## Evaluating test data\n",
    "The following example data has been acquired on an [Avnet AES-KU040-DB-G evaluation board](https://github.com/munich-ml/BER_tail_fit/blob/main/literature/FPGA_EvalBoard.pdf), populated with an Xilinx Kintex® UltraScale™ FPGA. \n",
    "\n",
    "The data is provided in the `datasets` directory in JSON format and library function are also provided in the `lib` directory."
   ]
  },
  {
   "cell_type": "code",
   "execution_count": null,
   "metadata": {
    "colab": {
     "base_uri": "https://localhost:8080/",
     "height": 195
    },
    "id": "FQc_7pSAGeaV",
    "outputId": "445d51d8-c51c-4262-cceb-3bfad5906c27"
   },
   "outputs": [],
   "source": [
    "fns = os.listdir(filesDir)\n",
    "fns"
   ]
  },
  {
   "cell_type": "markdown",
   "metadata": {
    "id": "uxCV8NwHGeaV"
   },
   "source": [
    "The **Jitter fits** shown below appear reasonable. The two channels `C9` and `C10` are quite different in terms of Jitter performance which is expected, because their channels are different:\n",
    "- `C9`: FPGA GTX transceiver connected via 10G SFP+ transceivers and a fiber-loopback\n",
    "- `C10`: FPGA GTX transceiver connected via SMA to 2x 0.5m cheap RG58 copper-loopback cables"
   ]
  },
  {
   "cell_type": "code",
   "execution_count": null,
   "metadata": {
    "id": "iRWL9q0gGeaV",
    "outputId": "a55855cf-ece3-4b55-bdb1-7c1176458923"
   },
   "outputs": [],
   "source": [
    "plot_jitter_fit(os.listdir(filesDir)[0], filesDir, exclude_chs=[8, 11])"
   ]
  },
  {
   "cell_type": "markdown",
   "metadata": {
    "id": "NC_Zbwy5GeaW"
   },
   "source": [
    "The RJ and TJ peak-2-peak values are estimated for $BERs=10^{-12}$.\n",
    "\n",
    "The images above show, that the **Gaussian model** fits well for low $BER$ below ~$10^{-4}$ ($BERt$ = threshold).\n",
    "\n",
    "The next image is an overlay of the examples above:"
   ]
  },
  {
   "cell_type": "code",
   "execution_count": null,
   "metadata": {
    "id": "09lyD-dzGeaW",
    "outputId": "33f73a56-0e72-48cd-d3d7-00b719e40a63"
   },
   "outputs": [],
   "source": [
    "plot_jitter_overlay(os.listdir(filesDir)[0], filesDir, exclude_chs=[8, 11], figsize=(12,3))"
   ]
  },
  {
   "cell_type": "markdown",
   "metadata": {
    "id": "Cwuz4a_6GeaW"
   },
   "source": [
    "## Jitter extrapolation to $BER=10^{-12}$ \n",
    "\n"
   ]
  },
  {
   "cell_type": "markdown",
   "metadata": {
    "id": "TPV7aszQGeaX"
   },
   "source": [
    "Modeling the RJ behavior is helpful to estimate the *long-term* Jitter performance with a *short* test. As an example, the same set of channels (C8..C11) have been tested twice with different `targetBER` (testtime):\n",
    "\n",
    "- `jitter_long_` with `targetBER=1E-12`\n",
    "- `jitter_short_` with `targetBER=1E-8`, thus a difference of factor 10.000 in testtime!"
   ]
  },
  {
   "cell_type": "code",
   "execution_count": null,
   "metadata": {
    "id": "jxivPhhdGeaX",
    "outputId": "ab1ca5ae-240f-47cd-db64-19dbda71c735"
   },
   "outputs": [],
   "source": [
    "plot_jitter_overlay(os.listdir(filesDir), filesDir, exclude_chs=[])"
   ]
  },
  {
   "cell_type": "markdown",
   "metadata": {
    "id": "C0RThOhJGeaX"
   },
   "source": [
    "Evaluation:\n",
    "\n",
    "- Within each trace, the fitted samples (`X`) are well on the trace. Thus, the method of fitting a Gaussian seems valid.\n",
    "- If short-term / long-term measurements differ in $sigma$/`RJrms`, the short-term measurement is worse. Thus, extrapolating from short-term is conservative.\n",
    "- Some short-term / long-term measurements differ in $mu$/`DJ`\n",
    "> - todo: Verify reproducibility (incl. tester warm-up)"
   ]
  },
  {
   "cell_type": "markdown",
   "metadata": {
    "id": "_JhsJpKFViRq"
   },
   "source": [
    "# Conclusion"
   ]
  },
  {
   "cell_type": "code",
   "execution_count": null,
   "metadata": {
    "id": "sRjJdgeTGeaY"
   },
   "outputs": [],
   "source": []
  },
  {
   "cell_type": "markdown",
   "metadata": {
    "id": "Cvhx9J4jk_lb"
   },
   "source": [
    "# Appndix: Jitter and BER Simulation"
   ]
  },
  {
   "cell_type": "markdown",
   "metadata": {
    "id": "JkshvZAhgeZ_"
   },
   "source": [
    "Setting-up the simulation"
   ]
  },
  {
   "cell_type": "code",
   "execution_count": null,
   "metadata": {
    "id": "0eyKWQLyfZD0"
   },
   "outputs": [],
   "source": [
    "N = int(4e5)      # number of simulated bits\n",
    "DR = 1e9          # data rate [bits/s]\n",
    "UI = 1/DR         # unit interval [s]\n",
    "RJ_SIGMA = 0.025  # simulated random jitter's sigma\n",
    "PJ_FREQ = 3e5     # frequency of the periodic jitter\n",
    "PJ_AMPL = 0.1     # periodic jitter amplitude [UI]"
   ]
  },
  {
   "cell_type": "code",
   "execution_count": null,
   "metadata": {
    "id": "j9KhOSuihkGo"
   },
   "outputs": [],
   "source": [
    "t = np.linspace(start=0, stop=(N-1)*UI, num=N)   # time vector\n",
    "dj = PJ_AMPL * np.sin(2 * np.pi * PJ_FREQ * t)   # determistic jitter,  consists of PJ, only\n",
    "rj = RJ_SIGMA * np.random.randn(N)               # random jitter\n",
    "tj = rj + dj                                     # total jitter"
   ]
  },
  {
   "cell_type": "code",
   "execution_count": null,
   "metadata": {
    "id": "uwPkCscsffhY",
    "outputId": "accaab41-a0ff-4826-827a-3f7b5316eaca"
   },
   "outputs": [],
   "source": [
    "plt.figure(figsize=(12, 4))\n",
    "plt.plot(tj, \".\", label=\"TJ\");\n",
    "plt.plot(rj, \".\", label=\"RJ\");\n",
    "plt.plot(dj, \".\", label=\"DJ\");\n",
    "plt.xlabel(\"time [UI]\"), plt.ylabel(\"jitter [UI]\")\n",
    "plt.xlim([0, 7000])\n",
    "plt.legend(loc=\"best\"), plt.grid(), plt.tight_layout();"
   ]
  },
  {
   "cell_type": "code",
   "execution_count": null,
   "metadata": {
    "id": "xjsPMW6Nf266",
    "outputId": "8393c83c-4fa0-4081-c2b6-347938fcd407"
   },
   "outputs": [],
   "source": [
    "bins = np.linspace(-0.5, 0.5, 300)\n",
    "plt.figure(figsize=(12, 4))\n",
    "plt.hist(tj, bins=bins, histtype=\"stepfilled\", label=\"TJ\")\n",
    "plt.hist(rj, bins=bins, histtype=\"step\", linewidth=4, label=\"RJ\")\n",
    "plt.hist(dj, bins=bins, histtype=\"step\", linewidth=4, label=\"DJ\")\n",
    "plt.yscale(\"log\")\n",
    "plt.ylabel(\"counts per bin\"), plt.xlabel(\"jitter [UI]\")\n",
    "plt.legend(loc=\"best\"), plt.grid(), plt.tight_layout();"
   ]
  },
  {
   "cell_type": "markdown",
   "metadata": {
    "id": "hGj6x9y_scvT"
   },
   "source": [
    "Random bit sequence as data"
   ]
  },
  {
   "cell_type": "code",
   "execution_count": null,
   "metadata": {
    "id": "v-QIw8zjmDOY"
   },
   "outputs": [],
   "source": [
    "data = np.random.randint(0, 2, N)"
   ]
  },
  {
   "cell_type": "code",
   "execution_count": null,
   "metadata": {
    "id": "y0gGCkFAr-lP",
    "outputId": "3f150008-989a-4256-b252-ba07f4bece30"
   },
   "outputs": [],
   "source": [
    "plt.figure(figsize=(14, 1.2))\n",
    "n = 100    # number of bits shown\n",
    "sns.lineplot(x=t[:n]*1e9, y=data[:n], drawstyle='steps-post')\n",
    "plt.title(f\"first {n} bits of the data\")\n",
    "plt.xlabel(\"t [ns]\"), plt.ylabel('level [\"arbitrary\"]');"
   ]
  },
  {
   "cell_type": "markdown",
   "metadata": {
    "id": "muSHAZqWL2fo"
   },
   "source": [
    "**Data sampling and error checking**\n",
    "\n",
    "\n",
    "Create a receiver sampler with `65` steps within the unit interval"
   ]
  },
  {
   "cell_type": "code",
   "execution_count": null,
   "metadata": {
    "id": "L59ONKDisrDk"
   },
   "outputs": [],
   "source": [
    "RX_PI_STEPS = 65          # step count of the receiver phase interpolator\n",
    "rx_pi = np.linspace(0, 1, num=RX_PI_STEPS)"
   ]
  },
  {
   "cell_type": "markdown",
   "metadata": {
    "id": "iTbDX5HBMLeQ"
   },
   "source": [
    "Cheching for errors"
   ]
  },
  {
   "cell_type": "code",
   "execution_count": null,
   "metadata": {
    "id": "s7fgLZFbAwCn"
   },
   "outputs": [],
   "source": [
    "errors = []\n",
    "for rx_pi_step in rx_pi:\n",
    "    errors.append(0)      # start with 0 errors at each new RX PI step\n",
    "    for i, tj_sample in enumerate(tj):\n",
    "        if 0 < i < N-1:                      # allows sampling data[i-1], data[i+1] \n",
    "            if tj_sample > rx_pi_step:         # checking left side eye\n",
    "                errors[-1] += int(np.logical_xor(data[i-1], data[i]))\n",
    "            if 1 + tj_sample < rx_pi_step:         # checking left side eye\n",
    "                errors[-1] += int(np.logical_xor(data[i+1], data[i]))"
   ]
  },
  {
   "cell_type": "markdown",
   "metadata": {
    "id": "qRSRMWs3ikVp"
   },
   "source": [
    "Compute and plot BER"
   ]
  },
  {
   "cell_type": "code",
   "execution_count": null,
   "metadata": {
    "id": "TeRpcp30K9mG"
   },
   "outputs": [],
   "source": [
    "ber = np.array(errors) / N"
   ]
  },
  {
   "cell_type": "code",
   "execution_count": null,
   "metadata": {
    "id": "RdkRv0NlLZIx",
    "outputId": "16a2d88c-6aca-4a55-ebe9-5346a3c06632"
   },
   "outputs": [],
   "source": [
    "plt.figure(figsize=(12, 4))\n",
    "plt.semilogy(rx_pi, ber, \"rX\", label=\"measured BER\")\n",
    "plt.semilogy([0, 1], [1/N, 1/N], \"-b\", label=\"targetBER\")\n",
    "plt.semilogy([0, 1], [1e-12, 1e-12], \"-g\", label=\"BERs\")\n",
    "plt.xlabel(\"RX PI position [UI]\"), plt.ylabel(\"BER\")\n",
    "plt.xlim([0, 1]), plt.ylim([1e-12, 1])\n",
    "plt.legend(loc=\"upper center\"), plt.grid();"
   ]
  },
  {
   "cell_type": "code",
   "execution_count": null,
   "metadata": {
    "id": "6OMvspDWjYF8"
   },
   "outputs": [],
   "source": []
  }
 ],
 "metadata": {
  "colab": {
   "include_colab_link": true,
   "name": "Jitter_BER_fit.ipynb",
   "provenance": []
  },
  "kernelspec": {
   "display_name": "Python 3",
   "language": "python",
   "name": "python3"
  },
  "language_info": {
   "codemirror_mode": {
    "name": "ipython",
    "version": 3
   },
   "file_extension": ".py",
   "mimetype": "text/x-python",
   "name": "python",
   "nbconvert_exporter": "python",
   "pygments_lexer": "ipython3",
   "version": "3.8.5"
  }
 },
 "nbformat": 4,
 "nbformat_minor": 1
}
