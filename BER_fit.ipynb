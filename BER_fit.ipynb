{
  "nbformat": 4,
  "nbformat_minor": 0,
  "metadata": {
    "colab": {
      "name": "BER_fit.ipynb",
      "provenance": [],
      "toc_visible": true,
      "authorship_tag": "ABX9TyNjZl/IZB/NXH6SUDS0/SeF",
      "include_colab_link": true
    },
    "kernelspec": {
      "name": "python3",
      "display_name": "Python 3"
    },
    "language_info": {
      "name": "python"
    }
  },
  "cells": [
    {
      "cell_type": "markdown",
      "metadata": {
        "id": "view-in-github",
        "colab_type": "text"
      },
      "source": [
        "<a href=\"https://colab.research.google.com/github/munich-ml/BER_tail_fit/blob/main/BER_fit.ipynb\" target=\"_parent\"><img src=\"https://colab.research.google.com/assets/colab-badge.svg\" alt=\"Open In Colab\"/></a>"
      ]
    },
    {
      "cell_type": "markdown",
      "metadata": {
        "id": "1DIessWNXjno"
      },
      "source": [
        "# Jitter and BER \n",
        "*H. Steffens, April 2021*\n",
        "\n",
        "This Notebook contains an introduction into Jitter, its correlation to BER (bit error ratio) and how to measure Jitter, particulatly using Xilinx FPGA's with IBERT."
      ]
    },
    {
      "cell_type": "markdown",
      "metadata": {
        "id": "UeDoyjWugpLF"
      },
      "source": [
        "### Jupyter setup\n",
        "Required Python imports and helper functions\n"
      ]
    },
    {
      "cell_type": "code",
      "metadata": {
        "id": "Lyynbf8ifPP7"
      },
      "source": [
        "import os\n",
        "import numpy as np\n",
        "import pandas as pd\n",
        "import matplotlib.pyplot as plt\n",
        "import seaborn as sns\n",
        "from scipy import special\n",
        "from scipy.stats import norm"
      ],
      "execution_count": null,
      "outputs": []
    },
    {
      "cell_type": "code",
      "metadata": {
        "id": "fo_lmoVAiIlE"
      },
      "source": [
        "np.random.seed(22)"
      ],
      "execution_count": null,
      "outputs": []
    },
    {
      "cell_type": "code",
      "metadata": {
        "id": "eyMRMsrQnYBm"
      },
      "source": [
        "def get_url(image_name):\n",
        "    return \"https://github.com/munich-ml/BER_tail_fit/blob/main/images/{}.png?raw=true\".format(image_name)"
      ],
      "execution_count": null,
      "outputs": []
    },
    {
      "cell_type": "markdown",
      "metadata": {
        "id": "mXg7gAgNCEjK"
      },
      "source": [
        "# Introduction to Jitter"
      ]
    },
    {
      "cell_type": "markdown",
      "metadata": {
        "id": "Z_iehh9bHL0k"
      },
      "source": [
        "**Jitter** is the **timing uncertainty** of signal edges at the crossing point with their reference level (0V for differential signaling).\n",
        "\n",
        "Since **Noise** describes a level uncertainty, **timing noise** or **phase noise** (usually used in frequency domain).\n",
        "\n",
        "![nice](https://github.com/munich-ml/BER_tail_fit/blob/main/images/RJeye_dscr.png?raw=true)"
      ]
    },
    {
      "cell_type": "markdown",
      "metadata": {
        "id": "igDq9h_gXEQb"
      },
      "source": [
        "The **Total Jitter (TJ)** consists of 2 major components:\n",
        "\n",
        "**Random Jitter (RJ)**\n",
        "- unbounded --> increases over time\n",
        "- Gaussian distribution\n",
        "\n",
        "**Deterministic Jitter (DJ)**\n",
        "- bounded --> saturates over time \n",
        "- can be split into sub-components (e.g. PJ, DCD, ISI)\n",
        "\n",
        "\n"
      ]
    },
    {
      "cell_type": "markdown",
      "metadata": {
        "id": "ojB-5oSrcYYv"
      },
      "source": [
        "### Jitter in a transmission system"
      ]
    },
    {
      "cell_type": "markdown",
      "metadata": {
        "id": "r2ld4RqzBFLH"
      },
      "source": [
        "![Tx+channel+Rx](https://github.com/munich-ml/BER_tail_fit/blob/main/images/tx_channel_rx.png?raw=true)\n",
        "\n",
        "The Jitter needs to be small enough for the receiver to sample the `rx_data`, while satisfying its setup- and hold-requirements.\n"
      ]
    },
    {
      "cell_type": "markdown",
      "metadata": {
        "id": "GvlJENo6dFuG"
      },
      "source": [
        ""
      ]
    },
    {
      "cell_type": "markdown",
      "metadata": {
        "id": "uJJ5qe6glFgw"
      },
      "source": [
        "# Measure Jitter using a Scope"
      ]
    },
    {
      "cell_type": "code",
      "metadata": {
        "id": "jnXjr1UllFJg"
      },
      "source": [
        "x = np.linspace(-1/3, 4/3, num=500)\n",
        "scale = 0.05    # sigmal value of the gaussian distribution\n",
        "norm_pdf = norm.pdf(x, loc=0, scale=scale) + norm.pdf(x, loc=1, scale=scale) \n",
        "norm_pdf = norm_pdf / norm_pdf.max()"
      ],
      "execution_count": null,
      "outputs": []
    },
    {
      "cell_type": "code",
      "metadata": {
        "id": "rrK9MVEJla4U"
      },
      "source": [
        "plt.figure(figsize=(8, 9))\n",
        "plt.subplot(2,1,1)\n",
        "plt.imshow(plt.imread(get_url(\"RJeye\"))), plt.axis(\"off\")\n",
        "\n",
        "plt.subplot(2,1,2)\n",
        "plt.plot(x, norm_pdf, label=\"gaussian PDF\")\n",
        "plt.xlim([min(x), max(x)]), plt.xticks(np.linspace(-1/3, 4/3, num=11))\n",
        "plt.xlabel(\"time [UI]\"), plt.title(\"normalized edge probability\")\n",
        "plt.grid(), plt.legend();"
      ],
      "execution_count": null,
      "outputs": []
    },
    {
      "cell_type": "code",
      "metadata": {
        "id": "Jc_8PLLgla6Z"
      },
      "source": [
        "plt.figure(figsize=(9, 3))\n",
        "too_early = 1 - norm.cdf(x, loc=0, scale=scale) \n",
        "too_late = norm.cdf(x, loc=1, scale=scale) \n",
        "plt.plot(x, norm_pdf, \":\", label=\"gaussian PDF\")\n",
        "plt.plot(x, too_early, label=\"gaussian CDF @mu=0: sampling too early\")\n",
        "plt.plot(x, too_late, label=\"gaussian CDF @mu=1: sampling too late\")\n",
        "plt.xlabel(\"time [UI]\"), plt.xticks(np.linspace(-1/3, 4/3, num=11))\n",
        "plt.title(\"Cumulated density function = probility of sampling early / late\")\n",
        "plt.grid(), plt.legend();"
      ],
      "execution_count": null,
      "outputs": []
    },
    {
      "cell_type": "markdown",
      "metadata": {
        "id": "Ky_yzvOrWJUB"
      },
      "source": [
        "### Disadvantages of Jitter measurements using Scopes\n",
        "Although (realtime-) scopes are are very useful tool when analysing communication systems with respect to Jitter and BER, their usage comes with some disadvantages:\n",
        "- scopes and probes are expensive\n",
        "- measurements are only available on individual samples and/or only during test  \n",
        "- the probes changes the channel, when being applied\n",
        "- the probes is placed somewhere on the channel, not at the receiver\n",
        "\n",
        "The **in-system measurement** approach proposed in the next chapter can potentially mitigate or even solve those issues."
      ]
    },
    {
      "cell_type": "markdown",
      "metadata": {
        "id": "vVHSrjtZZULQ"
      },
      "source": [
        "# XILINX IBERT"
      ]
    },
    {
      "cell_type": "markdown",
      "metadata": {
        "id": "7auK2v53ZbVf"
      },
      "source": [
        "FPGA-maker XILINX offers **Integrated Bit Error Ratio Tester IBERT** for their [7-Series GTP transceivers](https://www.xilinx.com/support/documentation/white_papers/wp428-7Series-Serial-Link-Signal-Analysis.pdf) and [UltraScale/UltraScale+ GTX and GTY transceivers](https://www.xilinx.com/products/intellectual-property/ibert_ultrascale_gth.html#overview).\n",
        "\n",
        "\n",
        "![WP482](https://github.com/munich-ml/BER_tail_fit/blob/main/images/wp482.png?raw=true)\n"
      ]
    },
    {
      "cell_type": "markdown",
      "metadata": {
        "id": "Cvhx9J4jk_lb"
      },
      "source": [
        "# Jitter and BER Simulation"
      ]
    },
    {
      "cell_type": "markdown",
      "metadata": {
        "id": "JkshvZAhgeZ_"
      },
      "source": [
        "## Transmitter"
      ]
    },
    {
      "cell_type": "markdown",
      "metadata": {
        "id": "76zoY35hhBtQ"
      },
      "source": [
        "#### Simulation constants"
      ]
    },
    {
      "cell_type": "code",
      "metadata": {
        "id": "0eyKWQLyfZD0"
      },
      "source": [
        "N = int(4e5)      # number of simulated bits\n",
        "DR = 1e9          # data rate [bits/s]\n",
        "UI = 1/DR         # unit interval [s]\n",
        "RJ_SIGMA = 0.025  # simulated random jitter's sigma\n",
        "PJ_FREQ = 3e5     # frequency of the periodic jitter\n",
        "PJ_AMPL = 0.1     # periodic jitter amplitude [UI]"
      ],
      "execution_count": null,
      "outputs": []
    },
    {
      "cell_type": "markdown",
      "metadata": {
        "id": "mNbwt-9AhLs4"
      },
      "source": [
        "### RJ, DJ, TJ simulation"
      ]
    },
    {
      "cell_type": "code",
      "metadata": {
        "id": "j9KhOSuihkGo"
      },
      "source": [
        "t = np.linspace(start=0, stop=(N-1)*UI, num=N)   # time vector\n",
        "dj = PJ_AMPL * np.sin(2 * np.pi * PJ_FREQ * t)   # determistic jitter,  consists of PJ, only\n",
        "rj = RJ_SIGMA * np.random.randn(N)               # random jitter\n",
        "tj = rj + dj                                     # total jitter"
      ],
      "execution_count": null,
      "outputs": []
    },
    {
      "cell_type": "code",
      "metadata": {
        "id": "uwPkCscsffhY"
      },
      "source": [
        "plt.figure(figsize=(12, 4))\n",
        "plt.plot(tj, \".\", label=\"TJ\");\n",
        "plt.plot(rj, \".\", label=\"RJ\");\n",
        "plt.plot(dj, \".\", label=\"DJ\");\n",
        "plt.xlabel(\"time [UI]\"), plt.ylabel(\"jitter [UI]\")\n",
        "plt.xlim([0, 7000])\n",
        "plt.legend(), plt.grid(), plt.tight_layout();"
      ],
      "execution_count": null,
      "outputs": []
    },
    {
      "cell_type": "code",
      "metadata": {
        "id": "xjsPMW6Nf266"
      },
      "source": [
        "bins = np.linspace(-0.5, 0.5, 300)\n",
        "plt.figure(figsize=(12, 4))\n",
        "plt.hist(tj, bins=bins, histtype=\"stepfilled\", label=\"TJ\")\n",
        "plt.hist(rj, bins=bins, histtype=\"step\", linewidth=4, label=\"RJ\")\n",
        "plt.hist(dj, bins=bins, histtype=\"step\", linewidth=4, label=\"DJ\")\n",
        "plt.yscale(\"log\")\n",
        "plt.ylabel(\"counts per bin\"), plt.xlabel(\"jitter [UI]\")\n",
        "plt.legend(), plt.grid(), plt.tight_layout();"
      ],
      "execution_count": null,
      "outputs": []
    },
    {
      "cell_type": "markdown",
      "metadata": {
        "id": "hGj6x9y_scvT"
      },
      "source": [
        "### Random bit sequence as data"
      ]
    },
    {
      "cell_type": "code",
      "metadata": {
        "id": "v-QIw8zjmDOY"
      },
      "source": [
        "data = np.random.randint(0, 2, N)"
      ],
      "execution_count": null,
      "outputs": []
    },
    {
      "cell_type": "code",
      "metadata": {
        "id": "y0gGCkFAr-lP"
      },
      "source": [
        "plt.figure(figsize=(14, 1.2))\n",
        "n = 100    # number of bits shown\n",
        "sns.lineplot(x=t[:n]*1e9, y=data[:n], drawstyle='steps-post')\n",
        "plt.title(f\"first {n} bits of the data\")\n",
        "plt.xlabel(\"t [ns]\"), plt.ylabel('level [\"arbitraty\"]');"
      ],
      "execution_count": null,
      "outputs": []
    },
    {
      "cell_type": "markdown",
      "metadata": {
        "id": "2pUGPNbgA71O"
      },
      "source": [
        "## Receiver"
      ]
    },
    {
      "cell_type": "markdown",
      "metadata": {
        "id": "muSHAZqWL2fo"
      },
      "source": [
        "### Data sampling and error checking\n",
        "Create a receiver sampler with `65` steps within the unit interval"
      ]
    },
    {
      "cell_type": "code",
      "metadata": {
        "id": "L59ONKDisrDk"
      },
      "source": [
        "RX_PI_STEPS = 65          # step count of the receiver phase interpolator\n",
        "rx_pi = np.linspace(0, 1, num=RX_PI_STEPS)"
      ],
      "execution_count": null,
      "outputs": []
    },
    {
      "cell_type": "markdown",
      "metadata": {
        "id": "iTbDX5HBMLeQ"
      },
      "source": [
        "Cheching for errors"
      ]
    },
    {
      "cell_type": "code",
      "metadata": {
        "id": "s7fgLZFbAwCn"
      },
      "source": [
        "errors = []\n",
        "for rx_pi_step in rx_pi:\n",
        "    errors.append(0)      # start with 0 errors at each new RX PI step\n",
        "    for i, tj_sample in enumerate(tj):\n",
        "        if 0 < i < N-1:                      # allows sampling data[i-1], data[i+1] \n",
        "            if tj_sample > rx_pi_step:         # checking left side eye\n",
        "                errors[-1] += int(np.logical_xor(data[i-1], data[i]))\n",
        "            if 1 + tj_sample < rx_pi_step:         # checking left side eye\n",
        "                errors[-1] += int(np.logical_xor(data[i+1], data[i]))"
      ],
      "execution_count": null,
      "outputs": []
    },
    {
      "cell_type": "markdown",
      "metadata": {
        "id": "qRSRMWs3ikVp"
      },
      "source": [
        "### Compute and plot BER"
      ]
    },
    {
      "cell_type": "code",
      "metadata": {
        "id": "TeRpcp30K9mG"
      },
      "source": [
        "ber = np.array(errors) / N"
      ],
      "execution_count": null,
      "outputs": []
    },
    {
      "cell_type": "code",
      "metadata": {
        "id": "RdkRv0NlLZIx"
      },
      "source": [
        "plt.figure(figsize=(10, 4.5))\n",
        "plt.semilogy(rx_pi, ber, \"rX\", label=\"measured BER\")\n",
        "plt.semilogy([0, 1], [1/N, 1/N], \"-b\", label=\"actual test deapth\")\n",
        "plt.semilogy([0, 1], [1e-12, 1e-12], \"-g\", label=\"desired test deapth\")\n",
        "plt.xlabel(\"RX PI position [UI]\"), plt.ylabel(\"BER\")\n",
        "plt.xlim([0, 1]), plt.ylim([1e-14, 1])\n",
        "plt.legend(), plt.grid();"
      ],
      "execution_count": null,
      "outputs": []
    },
    {
      "cell_type": "markdown",
      "metadata": {
        "id": "z3eXkB9qVTrB"
      },
      "source": [
        "# Gaussian tail fit"
      ]
    },
    {
      "cell_type": "code",
      "metadata": {
        "id": "PxCejrAXdgDj"
      },
      "source": [
        ""
      ],
      "execution_count": null,
      "outputs": []
    },
    {
      "cell_type": "markdown",
      "metadata": {
        "id": "_JhsJpKFViRq"
      },
      "source": [
        "# Conclusion"
      ]
    },
    {
      "cell_type": "code",
      "metadata": {
        "id": "6OMvspDWjYF8"
      },
      "source": [
        ""
      ],
      "execution_count": null,
      "outputs": []
    }
  ]
}